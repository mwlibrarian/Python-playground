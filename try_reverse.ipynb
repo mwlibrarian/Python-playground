{
 "cells": [
  {
   "cell_type": "code",
   "execution_count": 1,
   "metadata": {},
   "outputs": [
    {
     "name": "stdout",
     "output_type": "stream",
     "text": [
      "['This', 'is', 'my', 'test']\n",
      "['test', 'my', 'is', 'This']\n",
      "This is my test reversed is testmyisThis\n"
     ]
    }
   ],
   "source": [
    "mytest = \"This is my test\"\n",
    "mylist = mytest.split()\n",
    "print(mylist)\n",
    "myanswer = mylist[::-1]\n",
    "print(myanswer)\n",
    "finalanswer = \"\".join(myanswer)\n",
    "print(mytest + \" \" + \"reversed is\" + \" \" + finalanswer)"
   ]
  },
  {
   "cell_type": "code",
   "execution_count": 2,
   "metadata": {},
   "outputs": [
    {
     "name": "stdout",
     "output_type": "stream",
     "text": [
      "String =  Hello! How are you?\n",
      "Reverse order of the String =  ?uoy era woH !olleH\n"
     ]
    }
   ],
   "source": [
    "myStr = 'Hello! How are you?'\n",
    "print(\"String = \", myStr)\n",
    "\n",
    "# Slice\n",
    "print(\"Reverse order of the String = \", myStr[::-1])"
   ]
  },
  {
   "cell_type": "code",
   "execution_count": 3,
   "metadata": {},
   "outputs": [
    {
     "name": "stdout",
     "output_type": "stream",
     "text": [
      "['this', 'is', 'my', 'test']\n",
      "['test', 'my', 'is', 'this']\n",
      "['test']\n",
      "test\n",
      "['my']\n",
      "my\n",
      "['is']\n",
      "is\n",
      "['this']\n",
      "this\n",
      "this is my test backwrds is test my is this\n"
     ]
    }
   ],
   "source": [
    "mytest = \"this is my test\"\n",
    "mylist = mytest.split()\n",
    "print(mylist)\n",
    "\n",
    "backwards = mylist[:: -1]\n",
    "print(backwards)\n",
    "\n",
    "next1 = backwards[0: 1]\n",
    "print(next1)\n",
    "one = ()\n",
    "one = next1.pop()\n",
    "print(one)\n",
    "\n",
    "next2 = backwards[1: 2]\n",
    "print(next2)\n",
    "two = ()\n",
    "two = next2.pop()\n",
    "print(two)\n",
    "\n",
    "next3 = backwards[2: 3]\n",
    "print(next3)\n",
    "three = ()\n",
    "three = next3.pop()\n",
    "print(three)\n",
    "\n",
    "next4 = backwards[3: 4]\n",
    "print(next4)\n",
    "four = ()\n",
    "four = next4.pop()\n",
    "print(four)\n",
    "\n",
    "myanswer = mytest + \" \" + \"backwrds is\" + \" \" + one + \" \" + two + \" \" + three + \" \" + four\n",
    "print(myanswer)"
   ]
  }
 ],
 "metadata": {
  "kernelspec": {
   "display_name": "Python 3.10.2 64-bit",
   "language": "python",
   "name": "python3"
  },
  "language_info": {
   "codemirror_mode": {
    "name": "ipython",
    "version": 3
   },
   "file_extension": ".py",
   "mimetype": "text/x-python",
   "name": "python",
   "nbconvert_exporter": "python",
   "pygments_lexer": "ipython3",
   "version": "3.10.2"
  },
  "orig_nbformat": 4,
  "vscode": {
   "interpreter": {
    "hash": "10c162ed3939af0d8df3e08e0d91972212aaa500abbf50fbfb03a6d218541f28"
   }
  }
 },
 "nbformat": 4,
 "nbformat_minor": 2
}
