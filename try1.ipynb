{
 "cells": [
  {
   "cell_type": "code",
   "execution_count": 25,
   "metadata": {},
   "outputs": [
    {
     "name": "stdout",
     "output_type": "stream",
     "text": [
      "8.54400374531753\n",
      "73\n",
      "3\n",
      "8\n"
     ]
    }
   ],
   "source": [
    "# Write a function that takes in 2 points (2 tuples) on a coordinate axes, so (x, y).\n",
    "# This function should then return the distance between them.\n",
    "# Hint: Think of the pythagorean theorem a^2 + b^2 = c^2.\n",
    "\n",
    "tuple1 = (3, 6, 9, 3)\n",
    "\n",
    "tuple2 = (8, 9, 2, 4)\n",
    "\n",
    "tuple1 [0: len(tuple1)]\n",
    "\n",
    "tuple2 [0: len(tuple2)]\n",
    "\n",
    "num1 = int(tuple1[0])\n",
    "    \n",
    "num2 = int(tuple2[0])\n",
    "    \n",
    "unknown =+ int(num1**2 + num2**2)\n",
    "\n",
    "def GetDistance(mypoints):\n",
    "\n",
    "    for X in mypoints:\n",
    "\n",
    "        return (num1)\n",
    "\n",
    "    for Y in mypoints:\n",
    "\n",
    "        return (num2)\n",
    "\n",
    "    GetDistance == \"the distance between Point X and Point Y\"\n",
    "\n",
    "mypoints =+ unknown**.5\n",
    "\n",
    "print(mypoints)\n",
    "print(unknown)\n",
    "print(num1)\n",
    "print(num2)        \n",
    "        "
   ]
  }
 ],
 "metadata": {
  "kernelspec": {
   "display_name": "Python 3.10.2 64-bit",
   "language": "python",
   "name": "python3"
  },
  "language_info": {
   "codemirror_mode": {
    "name": "ipython",
    "version": 3
   },
   "file_extension": ".py",
   "mimetype": "text/x-python",
   "name": "python",
   "nbconvert_exporter": "python",
   "pygments_lexer": "ipython3",
   "version": "3.10.2"
  },
  "orig_nbformat": 4,
  "vscode": {
   "interpreter": {
    "hash": "10c162ed3939af0d8df3e08e0d91972212aaa500abbf50fbfb03a6d218541f28"
   }
  }
 },
 "nbformat": 4,
 "nbformat_minor": 2
}
